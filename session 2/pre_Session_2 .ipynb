{
  "nbformat": 4,
  "nbformat_minor": 0,
  "metadata": {
    "colab": {
      "name": "pre-Session 2.ipynb",
      "provenance": [],
      "collapsed_sections": []
    },
    "kernelspec": {
      "name": "python3",
      "display_name": "Python 3"
    }
  },
  "cells": [
    {
      "cell_type": "code",
      "metadata": {
        "id": "LNY7keW00yip"
      },
      "source": [
        "import numpy as np\r\n",
        "import pandas as pd\r\n",
        "import matplotlib.pyplot as plt"
      ],
      "execution_count": 1,
      "outputs": []
    },
    {
      "cell_type": "code",
      "metadata": {
        "colab": {
          "base_uri": "https://localhost:8080/"
        },
        "id": "kjY51yz63_Vz",
        "outputId": "479c1552-52a1-443d-f642-496366913be6"
      },
      "source": [
        "df = pd.read_csv(\"Data.csv\")\r\n",
        "x = df.iloc[:,:3].values\r\n",
        "y = df.iloc[:,3].values\r\n",
        "print(f\"{x} , {y}\")"
      ],
      "execution_count": 2,
      "outputs": [
        {
          "output_type": "stream",
          "text": [
            "[['France' 44.0 72000.0]\n",
            " ['Spain' 27.0 48000.0]\n",
            " ['Germany' 30.0 54000.0]\n",
            " ['Spain' 38.0 61000.0]\n",
            " ['Germany' 40.0 nan]\n",
            " ['France' 35.0 58000.0]\n",
            " ['Spain' nan 52000.0]\n",
            " ['France' 48.0 79000.0]\n",
            " ['Germany' 50.0 83000.0]\n",
            " ['France' 37.0 67000.0]] , ['No' 'Yes' 'No' 'No' 'Yes' 'Yes' 'No' 'Yes' 'No' 'Yes']\n"
          ],
          "name": "stdout"
        }
      ]
    },
    {
      "cell_type": "code",
      "metadata": {
        "id": "ebJv_J3EBRo4",
        "colab": {
          "base_uri": "https://localhost:8080/"
        },
        "outputId": "30b91633-4fe7-4b05-de9a-fced5a59d42d"
      },
      "source": [
        "from sklearn.impute import SimpleImputer # to Impute the NAN (non-Exciting Data in x)\r\n",
        "imputer = SimpleImputer(missing_values=np.nan,strategy='mean') # We gonna impute the NAN values by calculationg the mean value of the Salary column\r\n",
        "x[:,1:] = imputer.fit_transform(x[:,1:]) # imputing the NAN values in columns 1, 2\r\n",
        "print(x)"
      ],
      "execution_count": 3,
      "outputs": [
        {
          "output_type": "stream",
          "text": [
            "[['France' 44.0 72000.0]\n",
            " ['Spain' 27.0 48000.0]\n",
            " ['Germany' 30.0 54000.0]\n",
            " ['Spain' 38.0 61000.0]\n",
            " ['Germany' 40.0 63777.77777777778]\n",
            " ['France' 35.0 58000.0]\n",
            " ['Spain' 38.77777777777778 52000.0]\n",
            " ['France' 48.0 79000.0]\n",
            " ['Germany' 50.0 83000.0]\n",
            " ['France' 37.0 67000.0]]\n"
          ],
          "name": "stdout"
        }
      ]
    },
    {
      "cell_type": "code",
      "metadata": {
        "id": "QAaaRmdmIxbr"
      },
      "source": [
        "from sklearn.preprocessing import LabelEncoder , OneHotEncoder # encoding the Strings into Numbers EX: (\"Egypt\",\"KSA\") --> (0,1)\r\n",
        "x[:,0] = LabelEncoder().fit_transform(x[:,0]) # x[:,0] = [0 2 1 2 1 0 2 0 1 0]\r\n",
        "y[:] = LabelEncoder().fit_transform(y[:])  # y = [0 1 0 0 1 1 0 1 0 1]"
      ],
      "execution_count": 4,
      "outputs": []
    },
    {
      "cell_type": "code",
      "metadata": {
        "id": "HOZDFI23MOTs",
        "colab": {
          "base_uri": "https://localhost:8080/"
        },
        "outputId": "131f47d7-71f3-4f18-f4dc-368bc597d7d1"
      },
      "source": [
        "from sklearn.model_selection import train_test_split #so we can split the data to data_train and data_test\r\n",
        "x_train , x_test , y_train , y_test = train_test_split(x, y, test_size= 0.2, random_state=0) # Spliting the data fifth of the data is Test set and the reamining is the Training set\r\n",
        "print(f\"train = {x_train} , {y_train}\\n ,test = {x_test} , {y_test}\")"
      ],
      "execution_count": 5,
      "outputs": [
        {
          "output_type": "stream",
          "text": [
            "train = [[1 40.0 63777.77777777778]\n",
            " [0 37.0 67000.0]\n",
            " [2 27.0 48000.0]\n",
            " [2 38.77777777777778 52000.0]\n",
            " [0 48.0 79000.0]\n",
            " [2 38.0 61000.0]\n",
            " [0 44.0 72000.0]\n",
            " [0 35.0 58000.0]] , [1 1 1 0 1 0 0 1]\n",
            " ,test = [[1 30.0 54000.0]\n",
            " [1 50.0 83000.0]] , [0 0]\n"
          ],
          "name": "stdout"
        }
      ]
    }
  ]
}
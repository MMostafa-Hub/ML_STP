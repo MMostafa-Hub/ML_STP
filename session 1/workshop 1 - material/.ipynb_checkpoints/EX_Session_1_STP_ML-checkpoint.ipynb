{
 "cells": [
  {
   "cell_type": "code",
   "execution_count": 1,
   "metadata": {},
   "outputs": [],
   "source": [
    "import pandas as pd\n",
    "import numpy as np\n",
    "import matplotlib.pyplot as plt\n",
    "%matplotlib inline"
   ]
  },
  {
   "cell_type": "code",
   "execution_count": 2,
   "metadata": {},
   "outputs": [],
   "source": [
    "df_train = pd.read_csv(\"student_scores_train.csv\")\n",
    "x_train = np.array(df_train[\"Hours\"])\n",
    "y_train = np.array(df_train[\"Scores\"])\n",
    "m_train = x_train.shape[0]"
   ]
  },
  {
   "cell_type": "code",
   "execution_count": 3,
   "metadata": {},
   "outputs": [],
   "source": [
    "df_test = pd.read_csv(\"student_scores_test.csv\")\n",
    "x_test = np.array(df_test[\"Hours\"])\n",
    "y_test = np.array(df_test[\"Scores\"])\n",
    "m_test = x_test.shape[0]"
   ]
  },
  {
   "cell_type": "code",
   "execution_count": 4,
   "metadata": {},
   "outputs": [],
   "source": [
    "x_train = x_train.reshape(1,m_train) # 1 x 19\n",
    "y_train = y_train.reshape(1,m_train) # 1 x 19"
   ]
  },
  {
   "cell_type": "code",
   "execution_count": 5,
   "metadata": {},
   "outputs": [],
   "source": [
    "x_test = x_test.reshape(1,m_test) # 1 x 6\n",
    "y_test = y_test.reshape(1,m_test) # 1 x 6"
   ]
  },
  {
   "cell_type": "markdown",
   "metadata": {},
   "source": [
    "Hypothesis:\n",
    "$$J = \\frac{ 1}{2m}   \\sum^{m}_{i=1}(y^{(i)}-h_{w,b}(x^{(i)}))^{2} $$\n",
    "Calculate the gradients:\n",
    "$$ hw,b(x) = w* X +b$$ \n",
    "$$ \\frac{\\partial J}{\\partial w} = \\frac{1}{m} \\sum_{i=1}^m ((h_{w,b}(x^{(i)})-y^{(i)})* x^{(i)})$$\n",
    "$$ \\space = \\frac{1}{m}X(h_{w,b}(x)-Y)^T$$\n",
    "$$ \\frac{\\partial J}{\\partial b} = \\frac{1}{m} \\sum_{i=1}^m (h_{w,b}(x^{(i)})-y^{(i)})$$\n",
    "\n",
    "We will assume that:\n",
    "$$ \\frac{\\partial J}{\\partial w} = dw $$\n",
    "$$ \\frac{\\partial J}{\\partial b} = db $$\n"
   ]
  },
  {
   "cell_type": "code",
   "execution_count": 6,
   "metadata": {},
   "outputs": [
    {
     "name": "stdout",
     "output_type": "stream",
     "text": [
      "[[9.63243033]] 2.6945590974979217\n"
     ]
    }
   ],
   "source": [
    "w , b , epochs , learning_rate = 0 , 0 , 10000 , 1e-3\n",
    "for _ in range(epochs):\n",
    "    hyp = w*x_train + b # 1 x 9\n",
    "    dw = (1/m_train)*np.dot(x_train,(hyp - y_train).T) # (1 x 19) . (19 x 1) = 1 x 1\n",
    "    db = (1/m_train)*np.sum((hyp - y_train)) # 1 x 1\n",
    "    \n",
    "    w = w - learning_rate * dw\n",
    "    b = b - learning_rate * db\n",
    "\n",
    "print(w,b)"
   ]
  },
  {
   "cell_type": "code",
   "execution_count": 7,
   "metadata": {},
   "outputs": [
    {
     "name": "stdout",
     "output_type": "stream",
     "text": [
      "4.847426360295467 [[73.97454356 28.702121   48.93022469 39.29779436 69.15832839 77.82751569]] [[69 30 54 35 76 86]]\n"
     ]
    }
   ],
   "source": [
    "hyp = w*x_test + b\n",
    "cost = (1/m_train)*0.5*np.sum((y_test - hyp) ** 2)\n",
    "print(cost,hyp,y_test)"
   ]
  },
  {
   "cell_type": "code",
   "execution_count": 8,
   "metadata": {},
   "outputs": [
    {
     "data": {
      "image/png": "[encoded data removed]",
      "text/plain": [
       "<Figure size 432x288 with 1 Axes>"
      ]
     },
     "metadata": {
      "needs_background": "light"
     },
     "output_type": "display_data"
    }
   ],
   "source": [
    "hyp_train =  w*x_train + b\n",
    "df_train.plot(x='Hours', y='Scores', style='o')\n",
    "plt.plot(x_train[0],hyp_train[0],color=\"red\")\n",
    "plt.show()\n"
   ]
  },
  {
   "cell_type": "code",
   "execution_count": null,
   "metadata": {},
   "outputs": [],
   "source": []
  }
 ],
 "metadata": {
  "kernelspec": {
   "display_name": "Python 3",
   "language": "python",
   "name": "python3"
  },
  "language_info": {
   "codemirror_mode": {
    "name": "ipython",
    "version": 3
   },
   "file_extension": ".py",
   "mimetype": "text/x-python",
   "name": "python",
   "nbconvert_exporter": "python",
   "pygments_lexer": "ipython3",
   "version": "3.8.3"
  }
 },
 "nbformat": 4,
 "nbformat_minor": 4
}

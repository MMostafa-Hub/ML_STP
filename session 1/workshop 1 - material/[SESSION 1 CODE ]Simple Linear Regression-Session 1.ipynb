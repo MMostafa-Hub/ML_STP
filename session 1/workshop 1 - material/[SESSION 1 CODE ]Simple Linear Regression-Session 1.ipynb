{
 "cells": [
  {
   "cell_type": "markdown",
   "metadata": {},
   "source": [
    "# Linear Regression"
   ]
  },
  {
   "cell_type": "markdown",
   "metadata": {},
   "source": [
    "# Gradient descent"
   ]
  },
  {
   "cell_type": "code",
   "execution_count": 2,
   "metadata": {},
   "outputs": [],
   "source": [
    "import pandas as pn\n",
    "import numpy as np\n",
    "import matplotlib.pyplot as plt\n",
    "%matplotlib inline"
   ]
  },
  {
   "cell_type": "code",
   "execution_count": 3,
   "metadata": {},
   "outputs": [
    {
     "data": {
      "text/html": [
       "<div>\n",
       "<style scoped>\n",
       "    .dataframe tbody tr th:only-of-type {\n",
       "        vertical-align: middle;\n",
       "    }\n",
       "\n",
       "    .dataframe tbody tr th {\n",
       "        vertical-align: top;\n",
       "    }\n",
       "\n",
       "    .dataframe thead th {\n",
       "        text-align: right;\n",
       "    }\n",
       "</style>\n",
       "<table border=\"1\" class=\"dataframe\">\n",
       "  <thead>\n",
       "    <tr style=\"text-align: right;\">\n",
       "      <th></th>\n",
       "      <th>Hours</th>\n",
       "      <th>Scores</th>\n",
       "    </tr>\n",
       "  </thead>\n",
       "  <tbody>\n",
       "    <tr>\n",
       "      <th>0</th>\n",
       "      <td>2.5</td>\n",
       "      <td>21</td>\n",
       "    </tr>\n",
       "    <tr>\n",
       "      <th>1</th>\n",
       "      <td>5.1</td>\n",
       "      <td>47</td>\n",
       "    </tr>\n",
       "    <tr>\n",
       "      <th>2</th>\n",
       "      <td>3.2</td>\n",
       "      <td>27</td>\n",
       "    </tr>\n",
       "    <tr>\n",
       "      <th>3</th>\n",
       "      <td>8.5</td>\n",
       "      <td>75</td>\n",
       "    </tr>\n",
       "    <tr>\n",
       "      <th>4</th>\n",
       "      <td>3.5</td>\n",
       "      <td>30</td>\n",
       "    </tr>\n",
       "  </tbody>\n",
       "</table>\n",
       "</div>"
      ],
      "text/plain": [
       "   Hours  Scores\n",
       "0    2.5      21\n",
       "1    5.1      47\n",
       "2    3.2      27\n",
       "3    8.5      75\n",
       "4    3.5      30"
      ]
     },
     "execution_count": 3,
     "metadata": {},
     "output_type": "execute_result"
    }
   ],
   "source": [
    "df_train = pn.read_csv(\"student_scores_train.csv\")\n",
    "df_test = pn.read_csv(\"student_scores_test.csv\")\n",
    "df_train.head()"
   ]
  },
  {
   "cell_type": "code",
   "execution_count": 4,
   "metadata": {},
   "outputs": [
    {
     "data": {
      "image/png": "[encoded data removed]",
      "text/plain": [
       "<Figure size 432x288 with 1 Axes>"
      ]
     },
     "metadata": {
      "needs_background": "light"
     },
     "output_type": "display_data"
    }
   ],
   "source": [
    "df_train.plot(x='Hours', y='Scores', style='o')\n",
    "plt.title('Hours vs Scores')\n",
    "plt.xlabel('Hours Studied')\n",
    "plt.ylabel('Percentage Score')\n",
    "plt.show()"
   ]
  },
  {
   "cell_type": "code",
   "execution_count": 5,
   "metadata": {},
   "outputs": [],
   "source": [
    "x_train = df_train.iloc[:,0 ].values\n",
    "y_train = df_train.iloc[:,1].values\n",
    "m = 19"
   ]
  },
  {
   "cell_type": "code",
   "execution_count": 6,
   "metadata": {},
   "outputs": [],
   "source": [
    "x_test = df_test.iloc[:,0].values\n",
    "y_test = df_test.iloc[:,1].values\n",
    "m_test = 6"
   ]
  },
  {
   "cell_type": "markdown",
   "metadata": {},
   "source": [
    "Work with dimenstions of vectors"
   ]
  },
  {
   "cell_type": "code",
   "execution_count": 7,
   "metadata": {},
   "outputs": [
    {
     "data": {
      "text/plain": [
       "array([[69, 30, 54, 35, 76, 86]], dtype=int64)"
      ]
     },
     "execution_count": 7,
     "metadata": {},
     "output_type": "execute_result"
    }
   ],
   "source": [
    "x_train.reshape((1,m))\n",
    "y_train.reshape((1,m))\n",
    "x_test.reshape((1,m_test))\n",
    "y_test.reshape((1,m_test))\n"
   ]
  },
  {
   "cell_type": "code",
   "execution_count": 9,
   "metadata": {},
   "outputs": [],
   "source": [
    "def Hypothesis(w,b,x):\n",
    "    return w*x+b"
   ]
  },
  {
   "cell_type": "code",
   "execution_count": 10,
   "metadata": {},
   "outputs": [],
   "source": [
    "def initialize_parameters():\n",
    "    '''\n",
    "    This function initialize the parameters w,b by zeros\n",
    "   \n",
    "    \n",
    "    returns:\n",
    "    w: the weights term\n",
    "    b: the bias term\n",
    "    '''\n",
    "    #Your Code\n",
    "    w = 0\n",
    "    b =0 \n",
    "   \n",
    "    return w , b\n",
    "    \n",
    "    #Your Code ends here  "
   ]
  },
  {
   "cell_type": "code",
   "execution_count": 11,
   "metadata": {},
   "outputs": [],
   "source": [
    "import numpy as np"
   ]
  },
  {
   "cell_type": "markdown",
   "metadata": {},
   "source": [
    "Calculate the cost function\n",
    "$$J = \\frac{ 1}{2m}   \\sum^{m}_{i=1}(y^{(i)}-h_{w,b}(x^{(i)}))^{2} $$"
   ]
  },
  {
   "cell_type": "code",
   "execution_count": 12,
   "metadata": {},
   "outputs": [],
   "source": [
    "def cost(y,y_hat):\n",
    "    '''\n",
    "    This function calculates the cost \n",
    "    \n",
    "    arguments: \n",
    "    y: the real value of the target\n",
    "    y_hat: the predicted value\n",
    "    \n",
    "    returns the cost funtion Cost\n",
    "    '''\n",
    "    #Your Code Here\n",
    "    \n",
    "    \n",
    "    return (1/m)*0.5*np.sum((y - y_hat) ** 2)\n",
    "    #Your Code Ends Here\n"
   ]
  },
  {
   "cell_type": "markdown",
   "metadata": {},
   "source": [
    "Calculate the gradients:\n",
    "$$ hw,b(x) = w* X +b$$\n",
    "$$ \\frac{\\partial J}{\\partial w} = \\frac{1}{m}X(h_{w,b}(x)-Y)^T$$\n",
    "$$ \\frac{\\partial J}{\\partial b} = \\frac{1}{m} \\sum_{i=1}^m (h_{w,b}(x^{(i)})-y^{(i)})$$\n",
    "\n",
    "We will assume that:\n",
    "$$ \\frac{\\partial J}{\\partial w} = dw $$\n",
    "$$ \\frac{\\partial J}{\\partial b} = db $$\n",
    "\n"
   ]
  },
  {
   "cell_type": "code",
   "execution_count": 13,
   "metadata": {},
   "outputs": [],
   "source": [
    "def calc_gradients(w,b,x,y):\n",
    "    '''\n",
    "    This Function is to calculate the gradients of the parameters\n",
    "    \n",
    "    returns:\n",
    "    dw , db: the gradient of the parameters\n",
    "    '''\n",
    "    #Your Code Starts Here\n",
    "    y_hat = Hypothesis(w,b,x)\n",
    "    dw = (1/m)*np.dot(x,(y_hat - y).T)\n",
    "    db = (1/m)*np.sum((y_hat - y))\n",
    "    return dw , db\n",
    "    #Your Code Ends Here\n"
   ]
  },
  {
   "cell_type": "markdown",
   "metadata": {},
   "source": [
    "# Apply Gradient descent \n",
    "To update the parameters\n",
    "\n",
    "<br>\n",
    "The update rule of any parameter: \n",
    "<br>\n",
    "$ w = w - \\alpha \\text{ } dw$, where $\\alpha$ is the learning rate."
   ]
  },
  {
   "cell_type": "code",
   "execution_count": 14,
   "metadata": {},
   "outputs": [],
   "source": [
    "def gradient_descent(x,y,epochs =1000,learning_rate=1e-3):\n",
    "    '''\n",
    "    arguments:\n",
    "    x: the feature matrix with shape (1,m)\n",
    "    y: the target vector with shape (1,m)\n",
    "    epochs: the number of iterations\n",
    "    learning_rate\n",
    "    \n",
    "    returns:\n",
    "    w,b,Cost as Cost is a list of the cost each 100 iterations\n",
    "    '''\n",
    "    #Your Code Here\n",
    "                        \n",
    "                         #number of training examples\n",
    "    #Your Code Ends Here\n",
    "    \n",
    "    #Initialize w,b using the function impelemented above\n",
    "    #Your Code Here\n",
    "    w , b = initialize_parameters()\n",
    "    #Your Code Ends Here\n",
    "    \n",
    "    for i in range(epochs):\n",
    "        #Calculate the gradients and update parameters\n",
    "        #Your Code Starts Here\n",
    "        dw , db = calc_gradients(w,b,x,y)\n",
    "        w = w - learning_rate*dw\n",
    "        b = b - learning_rate*db\n",
    "        \n",
    "        \n",
    "        \n",
    "    return w , b\n",
    "        #Your Code Ends Here\n",
    "        "
   ]
  },
  {
   "cell_type": "markdown",
   "metadata": {},
   "source": [
    "# Test Your Implementation by Calculating Cost func"
   ]
  },
  {
   "cell_type": "code",
   "execution_count": 15,
   "metadata": {},
   "outputs": [],
   "source": [
    "def calc_test_cost(x_train,y_train,x_test,y_test , learning_rate =1e-3):\n",
    "    '''\n",
    "    this function applies the gradient descent algorithm \n",
    "    1. Get the parameters w,b  =using x_train, y_train\n",
    "\n",
    "    2. Calculate y_hat as w*x_test+b\n",
    "    \n",
    "    3.Calculate the cost between y_test and yhat\n",
    "    \n",
    "    returns:\n",
    "    the cost between y_test and yhat\n",
    "    '''\n",
    "    w_train , b_train = gradient_descent(x_train,y_train)\n",
    "    y_hat = w_train * x_test + b_train\n",
    "     \n",
    "    \n",
    "    #Apply Gradient Decent\n",
    "    #Your Code Here\n",
    "    return  cost(y_test,y_hat),y_hat\n",
    "    #Your Code Ends Here\n",
    "   "
   ]
  },
  {
   "cell_type": "code",
   "execution_count": 16,
   "metadata": {},
   "outputs": [
    {
     "data": {
      "text/plain": [
       "array([74.1433855 , 28.21492634, 48.73615277, 38.96414019, 69.25737921,\n",
       "       78.05219053])"
      ]
     },
     "execution_count": 16,
     "metadata": {},
     "output_type": "execute_result"
    }
   ],
   "source": [
    "#Test Your Algorithm: and try to get the best solution\n",
    "#Your Code Here : Call the function calc_test_cost and get cost , y_test , y_hat\n",
    "\n",
    "\n",
    "cost_ , y_hat =calc_test_cost(x_train,y_train,x_test,y_test)\n",
    "y_hat"
   ]
  },
  {
   "cell_type": "code",
   "execution_count": null,
   "metadata": {},
   "outputs": [],
   "source": [
    "#plot cost function with number of iterations"
   ]
  },
  {
   "cell_type": "code",
   "execution_count": 29,
   "metadata": {},
   "outputs": [
    {
     "data": {
      "image/png": "[encoded data removed]",
      "text/plain": [
       "<Figure size 432x288 with 1 Axes>"
      ]
     },
     "metadata": {
      "needs_background": "light"
     },
     "output_type": "display_data"
    },
    {
     "data": {
      "image/png": "[encoded data removed]",
      "text/plain": [
       "<Figure size 432x288 with 1 Axes>"
      ]
     },
     "metadata": {
      "needs_background": "light"
     },
     "output_type": "display_data"
    }
   ],
   "source": [
    "#plot y_hat with x \n",
    "plt.plot(y_hat,x_test)\n",
    "df_train.plot(x='Hours', y='Scores', style='o')\n",
    "\n",
    "\n",
    "plt.show()"
   ]
  },
  {
   "cell_type": "code",
   "execution_count": 26,
   "metadata": {},
   "outputs": [
    {
     "data": {
      "text/plain": [
       "array([69, 30, 54, 35, 76, 86], dtype=int64)"
      ]
     },
     "execution_count": 26,
     "metadata": {},
     "output_type": "execute_result"
    }
   ],
   "source": [
    "y_test"
   ]
  },
  {
   "cell_type": "code",
   "execution_count": null,
   "metadata": {},
   "outputs": [],
   "source": []
  }
 ],
 "metadata": {
  "kernelspec": {
   "display_name": "Python 3",
   "language": "python",
   "name": "python3"
  },
  "language_info": {
   "codemirror_mode": {
    "name": "ipython",
    "version": 3
   },
   "file_extension": ".py",
   "mimetype": "text/x-python",
   "name": "python",
   "nbconvert_exporter": "python",
   "pygments_lexer": "ipython3",
   "version": "3.8.3"
  }
 },
 "nbformat": 4,
 "nbformat_minor": 2
}

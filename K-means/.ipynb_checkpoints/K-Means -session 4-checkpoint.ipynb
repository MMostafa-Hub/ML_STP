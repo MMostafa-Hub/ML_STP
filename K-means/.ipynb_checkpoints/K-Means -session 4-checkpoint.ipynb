{
 "cells": [
  {
   "cell_type": "markdown",
   "metadata": {},
   "source": [
    "# K-Means Clustering"
   ]
  },
  {
   "cell_type": "code",
   "execution_count": null,
   "metadata": {},
   "outputs": [],
   "source": [
    "#importing Libraries\n",
    "\n",
    "import pandas as pn\n",
    "from scipy.spatial.distance import cdist\n",
    "import numpy as np\n",
    "import matplotlib.pyplot as plt"
   ]
  },
  {
   "cell_type": "code",
   "execution_count": null,
   "metadata": {},
   "outputs": [],
   "source": [
    "# importing Dataset\n",
    "\n",
    "X = pn.read_csv (\"Mall_Customers.csv\")\n",
    "X.head()\n",
    "x_train = X.iloc[:,3:].values\n"
   ]
  },
  {
   "cell_type": "markdown",
   "metadata": {},
   "source": [
    "# Using the elbow  to find the optimal number of clusters\n",
    "\n",
    "1- Kmeans (n_clusters = ... , init =...., random_state =...).fit(X)\n",
    "\n",
    "    1.1- n_clusters -> default=8\n",
    "         The number of clusters to form as well as the number of centroids to generate.\n",
    "\n",
    "    1.2- init{‘k-means++’, ‘random’}, callable or array-like of shape (n_clusters, n_features), default=’k-means++’\n",
    "\n",
    "    Notes: ’k-means++’ : selects initial cluster centers for k-mean clustering in a smart way to speed up convergence. See            section Notes in k_init for more details.\n",
    "\n",
    "    1.3- random_state: int, RandomState instance or None, default=None\n",
    "    Determines random number generation for centroid initialization. Use an int to make the randomness deterministic.\n",
    "    you can start with 0 ( random_state = 0 )\n",
    "\n",
    "    1.4 -fit(X) : Compute k-means clustering."
   ]
  },
  {
   "cell_type": "code",
   "execution_count": null,
   "metadata": {},
   "outputs": [],
   "source": [
    "#Distortion: It is calculated as the average of the squared distances from the cluster centers\n",
    "#of the respective clusters. Typically, the Euclidean distance metric is used.\n",
    "\n",
    "distortions = []\n",
    "from sklearn.cluster import KMeans\n",
    "K= range (1,10)\n",
    "for i in K:\n",
    "    # write Kmeans function with i n_clusters\n",
    "    kmeans = \n",
    "    # end code here\n",
    "    distortions.append(kmeans.inertia_)   \n"
   ]
  },
  {
   "cell_type": "code",
   "execution_count": null,
   "metadata": {},
   "outputs": [],
   "source": [
    "plt.plot(K, distortions, 'bx-')\n",
    "plt.xlabel('Values of K')\n",
    "plt.ylabel('Distortion')\n",
    "plt.title('The Elbow Method using Distortion')\n",
    "plt.show()"
   ]
  },
  {
   "cell_type": "markdown",
   "metadata": {},
   "source": [
    "fit_predict(X) : Compute cluster centers and predict cluster index for each sample.\n",
    "\n",
    "KMeans(n_clusters = ...., init = 'k-means++', random_state = ....)\n"
   ]
  },
  {
   "cell_type": "code",
   "execution_count": null,
   "metadata": {},
   "outputs": [],
   "source": [
    "# Fitting K-Means to the dataset using fit_predict and\n",
    "# using K getting from above graph \n",
    "\n",
    "# start code here (1 lines)\n",
    "\n",
    "y_kmeans = \n",
    "\n",
    "# end code here"
   ]
  },
  {
   "cell_type": "markdown",
   "metadata": {},
   "source": [
    "# Now Plotting Dataset with Clusters"
   ]
  },
  {
   "cell_type": "code",
   "execution_count": null,
   "metadata": {},
   "outputs": [],
   "source": [
    "# plotting Dataset\n",
    "\n",
    "plt.scatter(x_train[y_kmeans ==0,0],x_train[y_kmeans == 0,1],s = 100, c = 'red',label = 'cluster 1')\n",
    "plt.scatter(x_train[y_kmeans ==1,0],x_train[y_kmeans == 1,1],s = 100, c = 'blue',label = 'cluster 2')\n",
    "plt.scatter(x_train[y_kmeans ==2,0],x_train[y_kmeans == 2,1],s = 100, c = 'green',label = 'cluster 3')\n",
    "plt.scatter(x_train[y_kmeans ==3,0],x_train[y_kmeans == 3,1],s = 100, c = 'cyan',label = 'cluster 4')\n",
    "plt.scatter(x_train[y_kmeans ==4,0],x_train[y_kmeans == 4,1],s = 100, c = 'magenta',label = 'cluster 5')\n",
    "plt.scatter(kmeans.cluster_centers_[:,0], kmeans.cluster_centers_[:,1], s= 300 ,c = 'yellow',label= 'centroids')\n",
    "plt.xlabel('Annual Income')\n",
    "plt.ylabel('Spending Score')\n",
    "plt.title('Clusters')\n",
    "plt.legend()\n",
    "plt.show()"
   ]
  }
 ],
 "metadata": {
  "kernelspec": {
   "display_name": "Python 3",
   "language": "python",
   "name": "python3"
  },
  "language_info": {
   "codemirror_mode": {
    "name": "ipython",
    "version": 3
   },
   "file_extension": ".py",
   "mimetype": "text/x-python",
   "name": "python",
   "nbconvert_exporter": "python",
   "pygments_lexer": "ipython3",
   "version": "3.6.8"
  }
 },
 "nbformat": 4,
 "nbformat_minor": 2
}
